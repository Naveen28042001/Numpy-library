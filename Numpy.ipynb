{
 "cells": [
  {
   "cell_type": "code",
   "execution_count": 1,
   "id": "9100738a-e26f-45a3-91fc-231fb0aadb84",
   "metadata": {},
   "outputs": [],
   "source": [
    "import numpy as np\n",
    "list_ = ['1','2','3','4','5']\n",
    "array_list = np.array(object = list_)"
   ]
  },
  {
   "cell_type": "code",
   "execution_count": null,
   "id": "10dbd032-ecad-4126-ac4a-ab9a7142c378",
   "metadata": {},
   "outputs": [],
   "source": [
    "Q1. Is there any difference in the data type of variables list_ and array_list? If there is then write a code\n",
    "to print the data types of both the variables."
   ]
  },
  {
   "cell_type": "code",
   "execution_count": null,
   "id": "4274544b-9e9e-4845-ad8b-1ce3e27a7e33",
   "metadata": {},
   "outputs": [],
   "source": [
    "Yes, there is a difference in the data type of variables list_ and array_list"
   ]
  },
  {
   "cell_type": "code",
   "execution_count": 2,
   "id": "cff8bb49-07a7-4c6a-90af-b48d1504c4c3",
   "metadata": {},
   "outputs": [
    {
     "data": {
      "text/plain": [
       "['1', '2', '3', '4', '5']"
      ]
     },
     "execution_count": 2,
     "metadata": {},
     "output_type": "execute_result"
    }
   ],
   "source": [
    "list_"
   ]
  },
  {
   "cell_type": "code",
   "execution_count": 3,
   "id": "bd4c6c18-f932-4906-bfc5-070494aa6836",
   "metadata": {},
   "outputs": [
    {
     "data": {
      "text/plain": [
       "array(['1', '2', '3', '4', '5'], dtype='<U1')"
      ]
     },
     "execution_count": 3,
     "metadata": {},
     "output_type": "execute_result"
    }
   ],
   "source": [
    "array_list"
   ]
  },
  {
   "cell_type": "code",
   "execution_count": 4,
   "id": "5a7c5581-2b7e-41b6-91ad-2721672ca7f4",
   "metadata": {},
   "outputs": [],
   "source": [
    "data_type_list_ = type(list_)"
   ]
  },
  {
   "cell_type": "code",
   "execution_count": 5,
   "id": "af209c9e-6cad-42a9-987e-25f0f131a007",
   "metadata": {},
   "outputs": [
    {
     "data": {
      "text/plain": [
       "list"
      ]
     },
     "execution_count": 5,
     "metadata": {},
     "output_type": "execute_result"
    }
   ],
   "source": [
    "data_type_list_"
   ]
  },
  {
   "cell_type": "code",
   "execution_count": 6,
   "id": "245d8e5d-f2cb-4e2b-94a0-a4ef1dea1c25",
   "metadata": {},
   "outputs": [],
   "source": [
    "data_type_array_list = type(array_list)"
   ]
  },
  {
   "cell_type": "code",
   "execution_count": 7,
   "id": "5c442c3e-ccfe-4cb2-b55f-a8853710dec7",
   "metadata": {},
   "outputs": [
    {
     "data": {
      "text/plain": [
       "numpy.ndarray"
      ]
     },
     "execution_count": 7,
     "metadata": {},
     "output_type": "execute_result"
    }
   ],
   "source": [
    "data_type_array_list"
   ]
  },
  {
   "cell_type": "code",
   "execution_count": null,
   "id": "915f8e82-2717-455c-9e4d-28e7083e3517",
   "metadata": {},
   "outputs": [],
   "source": [
    "Q2. Write a code to print the data type of each and every element of both the variables list_ and\n",
    "arra_list."
   ]
  },
  {
   "cell_type": "code",
   "execution_count": 8,
   "id": "814a19d6-e907-4325-b5e6-7b0778355ca3",
   "metadata": {},
   "outputs": [
    {
     "data": {
      "text/plain": [
       "['1', '2', '3', '4', '5']"
      ]
     },
     "execution_count": 8,
     "metadata": {},
     "output_type": "execute_result"
    }
   ],
   "source": [
    "list_"
   ]
  },
  {
   "cell_type": "code",
   "execution_count": 9,
   "id": "2240d784-4ab4-4712-acbe-f66cfd077846",
   "metadata": {},
   "outputs": [
    {
     "data": {
      "text/plain": [
       "array(['1', '2', '3', '4', '5'], dtype='<U1')"
      ]
     },
     "execution_count": 9,
     "metadata": {},
     "output_type": "execute_result"
    }
   ],
   "source": [
    "array_list"
   ]
  },
  {
   "cell_type": "code",
   "execution_count": 14,
   "id": "a2a8a4ec-426a-45d4-9fd6-9e6ae1600f27",
   "metadata": {},
   "outputs": [],
   "source": [
    "data_type_list_ = type(list_)"
   ]
  },
  {
   "cell_type": "code",
   "execution_count": 10,
   "id": "85eb7532-b7fc-4327-9226-4159510a9dde",
   "metadata": {},
   "outputs": [
    {
     "data": {
      "text/plain": [
       "list"
      ]
     },
     "execution_count": 10,
     "metadata": {},
     "output_type": "execute_result"
    }
   ],
   "source": [
    "data_type_list_ "
   ]
  },
  {
   "cell_type": "code",
   "execution_count": 11,
   "id": "509c12c7-0868-4b9b-91af-9636ae5504f6",
   "metadata": {},
   "outputs": [],
   "source": [
    "data_type_array_list = type(array_list)"
   ]
  },
  {
   "cell_type": "code",
   "execution_count": 12,
   "id": "613d7398-6aa4-4074-a0b4-d469f3052e70",
   "metadata": {},
   "outputs": [
    {
     "data": {
      "text/plain": [
       "numpy.ndarray"
      ]
     },
     "execution_count": 12,
     "metadata": {},
     "output_type": "execute_result"
    }
   ],
   "source": [
    "data_type_array_list"
   ]
  },
  {
   "cell_type": "code",
   "execution_count": 13,
   "id": "416f4cfa-0db1-4d94-a3fd-b6f28b0d583c",
   "metadata": {},
   "outputs": [
    {
     "data": {
      "text/plain": [
       "str"
      ]
     },
     "execution_count": 13,
     "metadata": {},
     "output_type": "execute_result"
    }
   ],
   "source": [
    "type(list_[0])"
   ]
  },
  {
   "cell_type": "code",
   "execution_count": 50,
   "id": "4e620746-6cc4-410b-b76c-11cd94d2188b",
   "metadata": {},
   "outputs": [
    {
     "name": "stdout",
     "output_type": "stream",
     "text": [
      "Data type of element<class 'str'>\n",
      "Data type of element<class 'str'>\n",
      "Data type of element<class 'str'>\n",
      "Data type of element<class 'str'>\n",
      "Data type of element<class 'str'>\n"
     ]
    }
   ],
   "source": [
    "for element in list_:\n",
    "    element_data_type = type(element)\n",
    "    print(f\"Data type of element{element_data_type}\")"
   ]
  },
  {
   "cell_type": "code",
   "execution_count": 25,
   "id": "440e9e95-ed84-40b7-b821-e77001b45577",
   "metadata": {},
   "outputs": [
    {
     "name": "stdout",
     "output_type": "stream",
     "text": [
      "Data type of element<class 'numpy.str_'>\n",
      "Data type of element<class 'numpy.str_'>\n",
      "Data type of element<class 'numpy.str_'>\n",
      "Data type of element<class 'numpy.str_'>\n",
      "Data type of element<class 'numpy.str_'>\n"
     ]
    }
   ],
   "source": [
    "for element in array_list:\n",
    "    element_data_type = type(element)\n",
    "    print(f\"Data type of element{element_data_type}\")"
   ]
  },
  {
   "cell_type": "code",
   "execution_count": null,
   "id": "adf35342-7919-4d26-b8a2-ff41c2f0eb66",
   "metadata": {},
   "outputs": [],
   "source": [
    "Q3. Considering the following changes in the variable, array_list:\n",
    "array_list = np.array(object = list_, dtype = int)\n",
    "\n",
    "Will there be any difference in the data type of the elements present in both the variables, list_ and\n",
    "arra_list? If so then print the data types of each and every element present in both the variables, list_\n",
    "and arra_list."
   ]
  },
  {
   "cell_type": "code",
   "execution_count": 25,
   "id": "9b04f819-651e-44af-9944-7f43aca35b08",
   "metadata": {},
   "outputs": [],
   "source": [
    "array_list = np.array(object = list_, dtype = int)"
   ]
  },
  {
   "cell_type": "code",
   "execution_count": 26,
   "id": "6fc67668-6778-49aa-923b-15caa00f4141",
   "metadata": {},
   "outputs": [
    {
     "data": {
      "text/plain": [
       "array([1, 2, 3, 4, 5])"
      ]
     },
     "execution_count": 26,
     "metadata": {},
     "output_type": "execute_result"
    }
   ],
   "source": [
    "array_list "
   ]
  },
  {
   "cell_type": "code",
   "execution_count": 20,
   "id": "1ca6831f-9e6d-4001-b41e-a92d69d86505",
   "metadata": {},
   "outputs": [
    {
     "data": {
      "text/plain": [
       "['1', '2', '3', '4', '5']"
      ]
     },
     "execution_count": 20,
     "metadata": {},
     "output_type": "execute_result"
    }
   ],
   "source": [
    "list_"
   ]
  },
  {
   "cell_type": "code",
   "execution_count": 21,
   "id": "f22ba5d2-c666-4616-baee-061d6562048a",
   "metadata": {},
   "outputs": [],
   "source": [
    "data_type_list_ = type(list_)"
   ]
  },
  {
   "cell_type": "code",
   "execution_count": 22,
   "id": "50ccdd3c-26c1-48da-80e4-c8cc5c7e7c8f",
   "metadata": {},
   "outputs": [
    {
     "data": {
      "text/plain": [
       "list"
      ]
     },
     "execution_count": 22,
     "metadata": {},
     "output_type": "execute_result"
    }
   ],
   "source": [
    "data_type_list_"
   ]
  },
  {
   "cell_type": "code",
   "execution_count": 27,
   "id": "388001d3-165a-4f7f-a3ad-abbd318b34ea",
   "metadata": {},
   "outputs": [],
   "source": [
    "data_type_array_list = type(array_list)"
   ]
  },
  {
   "cell_type": "code",
   "execution_count": 28,
   "id": "55e5d393-c8a1-4958-81b0-d270b49d0546",
   "metadata": {},
   "outputs": [
    {
     "data": {
      "text/plain": [
       "numpy.ndarray"
      ]
     },
     "execution_count": 28,
     "metadata": {},
     "output_type": "execute_result"
    }
   ],
   "source": [
    "data_type_array_list"
   ]
  },
  {
   "cell_type": "code",
   "execution_count": null,
   "id": "00beedcb-142e-4a02-b372-58a0e62df96b",
   "metadata": {},
   "outputs": [],
   "source": [
    "yes,there is a differnce in the data type of elements present in the variables list_ and array_list"
   ]
  },
  {
   "cell_type": "code",
   "execution_count": 29,
   "id": "94067b55-2bfa-43e3-b76f-a7e2b9aa98fe",
   "metadata": {},
   "outputs": [
    {
     "name": "stdout",
     "output_type": "stream",
     "text": [
      "Data type of element<class 'str'>\n",
      "Data type of element<class 'str'>\n",
      "Data type of element<class 'str'>\n",
      "Data type of element<class 'str'>\n",
      "Data type of element<class 'str'>\n"
     ]
    }
   ],
   "source": [
    "for element in list_:\n",
    "    element_data_type = type(element)\n",
    "    print(\"Data type of element{element}\".format(element = element_data_type))"
   ]
  },
  {
   "cell_type": "code",
   "execution_count": 30,
   "id": "678189d2-049a-45b8-9e90-0d8a7e664f5c",
   "metadata": {},
   "outputs": [
    {
     "name": "stdout",
     "output_type": "stream",
     "text": [
      "Data type of element<class 'numpy.int64'>\n",
      "Data type of element<class 'numpy.int64'>\n",
      "Data type of element<class 'numpy.int64'>\n",
      "Data type of element<class 'numpy.int64'>\n",
      "Data type of element<class 'numpy.int64'>\n"
     ]
    }
   ],
   "source": [
    "for element in array_list:\n",
    "    element_data_type = type(element)\n",
    "    print(f\"Data type of element{element_data_type}\")"
   ]
  },
  {
   "cell_type": "code",
   "execution_count": null,
   "id": "5d98f054-e459-4f4a-bd27-0dd4a9f6d961",
   "metadata": {},
   "outputs": [],
   "source": [
    "Consider the below code to answer further questions:\n",
    "import numpy as np\n",
    "num_list = [ [ 1 , 2 , 3 ] , [ 4 , 5 , 6 ] ]\n",
    "num_array = np.array(object = num_list)\n",
    "Q4. Write a code to find the following characteristics of variable, num_array:\n",
    "(i) shape\n",
    "(ii) size"
   ]
  },
  {
   "cell_type": "code",
   "execution_count": 31,
   "id": "805c984b-cbea-4c78-81a8-8b924e16cddc",
   "metadata": {},
   "outputs": [],
   "source": [
    "num_list = [ [ 1 , 2 , 3 ] , [ 4 , 5 , 6 ] ]"
   ]
  },
  {
   "cell_type": "code",
   "execution_count": 32,
   "id": "c3ab4f57-59b1-429e-8adf-168feb6ddac7",
   "metadata": {},
   "outputs": [
    {
     "data": {
      "text/plain": [
       "[[1, 2, 3], [4, 5, 6]]"
      ]
     },
     "execution_count": 32,
     "metadata": {},
     "output_type": "execute_result"
    }
   ],
   "source": [
    "num_list"
   ]
  },
  {
   "cell_type": "code",
   "execution_count": 33,
   "id": "c32c57b1-3d44-4a4f-a251-b1bd72e4106a",
   "metadata": {},
   "outputs": [],
   "source": [
    "num_array = np.array(object = num_list)\n"
   ]
  },
  {
   "cell_type": "code",
   "execution_count": 34,
   "id": "cae2b4e5-dad2-4fc8-850b-3ad57a5d31c4",
   "metadata": {},
   "outputs": [
    {
     "data": {
      "text/plain": [
       "array([[1, 2, 3],\n",
       "       [4, 5, 6]])"
      ]
     },
     "execution_count": 34,
     "metadata": {},
     "output_type": "execute_result"
    }
   ],
   "source": [
    "num_array"
   ]
  },
  {
   "cell_type": "code",
   "execution_count": 35,
   "id": "62a4e16e-e788-485c-ae43-471fa06c57c7",
   "metadata": {},
   "outputs": [
    {
     "data": {
      "text/plain": [
       "(2, 3)"
      ]
     },
     "execution_count": 35,
     "metadata": {},
     "output_type": "execute_result"
    }
   ],
   "source": [
    "num_array.shape"
   ]
  },
  {
   "cell_type": "code",
   "execution_count": 36,
   "id": "65938238-6aa0-4e48-8c68-b5d3f1b67bdb",
   "metadata": {},
   "outputs": [
    {
     "data": {
      "text/plain": [
       "6"
      ]
     },
     "execution_count": 36,
     "metadata": {},
     "output_type": "execute_result"
    }
   ],
   "source": [
    "num_array.size"
   ]
  },
  {
   "cell_type": "code",
   "execution_count": null,
   "id": "add40957-2200-4471-928d-02bc04fcf6f9",
   "metadata": {},
   "outputs": [],
   "source": [
    "Q5. Write a code to create numpy array of 3*3 matrix containing zeros only, using a numpy array\n",
    "creation function."
   ]
  },
  {
   "cell_type": "code",
   "execution_count": 38,
   "id": "67e1c682-9073-4daa-a8d8-c9260e5e2f10",
   "metadata": {},
   "outputs": [],
   "source": [
    "import  numpy as np\n",
    "num_array = np.zeros((3,3))"
   ]
  },
  {
   "cell_type": "code",
   "execution_count": 39,
   "id": "7f538191-a59d-4f2b-9507-4b5eeb8038b5",
   "metadata": {},
   "outputs": [
    {
     "data": {
      "text/plain": [
       "array([[0., 0., 0.],\n",
       "       [0., 0., 0.],\n",
       "       [0., 0., 0.]])"
      ]
     },
     "execution_count": 39,
     "metadata": {},
     "output_type": "execute_result"
    }
   ],
   "source": [
    "num_array"
   ]
  },
  {
   "cell_type": "code",
   "execution_count": 40,
   "id": "634c53cc-0cb9-489b-b6df-5a89892cbf16",
   "metadata": {},
   "outputs": [
    {
     "data": {
      "text/plain": [
       "(3, 3)"
      ]
     },
     "execution_count": 40,
     "metadata": {},
     "output_type": "execute_result"
    }
   ],
   "source": [
    "num_array.shape"
   ]
  },
  {
   "cell_type": "code",
   "execution_count": 41,
   "id": "98c9337a-b4f3-49d0-bb63-2c083aeea3b4",
   "metadata": {},
   "outputs": [
    {
     "data": {
      "text/plain": [
       "9"
      ]
     },
     "execution_count": 41,
     "metadata": {},
     "output_type": "execute_result"
    }
   ],
   "source": [
    "num_array.size"
   ]
  },
  {
   "cell_type": "code",
   "execution_count": null,
   "id": "4935aa99-2898-4b5e-a386-e4b9373137d5",
   "metadata": {},
   "outputs": [],
   "source": [
    "Q6. Create an identity matrix of shape (5,5) using numpy functions?\n",
    "[Hint: An identity matrix is a matrix containing 1 diagonally and other elements will be 0.]"
   ]
  },
  {
   "cell_type": "code",
   "execution_count": 43,
   "id": "2a48f9b2-20aa-4121-a4ff-c8629176f7cd",
   "metadata": {},
   "outputs": [],
   "source": [
    "identity_matrix = np.eye(5)"
   ]
  },
  {
   "cell_type": "code",
   "execution_count": 44,
   "id": "24f4a5d3-c272-4c1c-aff6-18a659cd2ec0",
   "metadata": {},
   "outputs": [
    {
     "data": {
      "text/plain": [
       "array([[1., 0., 0., 0., 0.],\n",
       "       [0., 1., 0., 0., 0.],\n",
       "       [0., 0., 1., 0., 0.],\n",
       "       [0., 0., 0., 1., 0.],\n",
       "       [0., 0., 0., 0., 1.]])"
      ]
     },
     "execution_count": 44,
     "metadata": {},
     "output_type": "execute_result"
    }
   ],
   "source": [
    "identity_matrix"
   ]
  },
  {
   "cell_type": "code",
   "execution_count": 46,
   "id": "3f0bc4f0-1703-4768-9b4e-89a90eaeaefd",
   "metadata": {},
   "outputs": [
    {
     "data": {
      "text/plain": [
       "(5, 5)"
      ]
     },
     "execution_count": 46,
     "metadata": {},
     "output_type": "execute_result"
    }
   ],
   "source": [
    "identity_matrix.shape"
   ]
  },
  {
   "cell_type": "code",
   "execution_count": 47,
   "id": "825f5991-8037-45c7-aca7-3608688076c4",
   "metadata": {},
   "outputs": [
    {
     "data": {
      "text/plain": [
       "25"
      ]
     },
     "execution_count": 47,
     "metadata": {},
     "output_type": "execute_result"
    }
   ],
   "source": [
    "identity_matrix.size"
   ]
  },
  {
   "cell_type": "code",
   "execution_count": null,
   "id": "16d3a209-3ef8-449c-95e1-1535747b2378",
   "metadata": {},
   "outputs": [],
   "source": []
  }
 ],
 "metadata": {
  "kernelspec": {
   "display_name": "Python 3 (ipykernel)",
   "language": "python",
   "name": "python3"
  },
  "language_info": {
   "codemirror_mode": {
    "name": "ipython",
    "version": 3
   },
   "file_extension": ".py",
   "mimetype": "text/x-python",
   "name": "python",
   "nbconvert_exporter": "python",
   "pygments_lexer": "ipython3",
   "version": "3.10.8"
  }
 },
 "nbformat": 4,
 "nbformat_minor": 5
}
